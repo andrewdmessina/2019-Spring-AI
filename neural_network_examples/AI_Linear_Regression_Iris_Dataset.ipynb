{
  "nbformat": 4,
  "nbformat_minor": 0,
  "metadata": {
    "colab": {
      "name": "AI_Linear_Regression_Iris_Dataset.ipynb",
      "version": "0.3.2",
      "provenance": [],
      "collapsed_sections": [],
      "include_colab_link": true
    },
    "kernelspec": {
      "display_name": "Python 3",
      "language": "python",
      "name": "python3"
    }
  },
  "cells": [
    {
      "cell_type": "markdown",
      "metadata": {
        "id": "view-in-github",
        "colab_type": "text"
      },
      "source": [
        "<a href=\"https://colab.research.google.com/github/badriadhikari/2019-Spring-AI/blob/master/neural_network_examples/AI_Linear_Regression_Iris_Dataset.ipynb\" target=\"_parent\"><img src=\"https://colab.research.google.com/assets/colab-badge.svg\" alt=\"Open In Colab\"/></a>"
      ]
    },
    {
      "metadata": {
        "id": "X2Z70wjAxwTd",
        "colab_type": "code",
        "outputId": "852a1dda-01e6-4350-886f-c7abafd3fc44",
        "colab": {
          "base_uri": "https://localhost:8080/",
          "height": 173
        }
      },
      "cell_type": "code",
      "source": [
        "from keras.models import Sequential\n",
        "from keras.layers import Dense\n",
        "import numpy as np\n",
        "import matplotlib.pyplot as plt\n",
        "\n",
        "# Import the iris dataset's first four columns\n",
        "# Metadata: https://github.com/badriadhikari/2019-Spring-AI/blob/master/supplementary/iris.names\n",
        "#  Column 2. sepal width in cm (load as col 0)\n",
        "#  Column 3. petal length in cm (load as col 1)\n",
        "#  Column 4. petal width in cm (load as col 2)\n",
        "dataset = np.genfromtxt(\"https://raw.githubusercontent.com/badriadhikari/2019-Spring-AI/master/supplementary/iris.data\", delimiter=\",\", usecols=(1, 2, 3))\n",
        "\n",
        "print('')\n",
        "print(dataset.shape)\n",
        "print('')\n",
        "print(dataset[0:5])"
      ],
      "execution_count": 1,
      "outputs": [
        {
          "output_type": "stream",
          "text": [
            "Using TensorFlow backend.\n"
          ],
          "name": "stderr"
        },
        {
          "output_type": "stream",
          "text": [
            "\n",
            "(150, 3)\n",
            "\n",
            "[[3.5 1.4 0.2]\n",
            " [3.  1.4 0.2]\n",
            " [3.2 1.3 0.2]\n",
            " [3.1 1.5 0.2]\n",
            " [3.6 1.4 0.2]]\n"
          ],
          "name": "stdout"
        }
      ]
    },
    {
      "metadata": {
        "id": "4nu2083-o43b",
        "colab_type": "code",
        "colab": {
          "base_uri": "https://localhost:8080/",
          "height": 191
        },
        "outputId": "260fd53b-5e54-431f-d3c5-2affc95ee630"
      },
      "cell_type": "code",
      "source": [
        "# Q1. Why is shuffling important before splitting?\n",
        "np.random.shuffle(dataset)\n",
        "print('')\n",
        "print(dataset[0:5])\n",
        "# Say, we would like to predict petal width (col4) using \n",
        "#   sepal width (col2) and petal length (col3)\n",
        "train = dataset[:100]\n",
        "valid = dataset[100:]\n",
        "print('')\n",
        "print(train.shape)\n",
        "print('')\n",
        "print(valid.shape)"
      ],
      "execution_count": 2,
      "outputs": [
        {
          "output_type": "stream",
          "text": [
            "\n",
            "[[3.1 1.5 0.1]\n",
            " [3.  4.2 1.5]\n",
            " [3.  5.5 2.1]\n",
            " [2.8 5.6 2.1]\n",
            " [3.3 1.4 0.2]]\n",
            "\n",
            "(100, 3)\n",
            "\n",
            "(50, 3)\n"
          ],
          "name": "stdout"
        }
      ]
    },
    {
      "metadata": {
        "id": "PcZZQLoTpBJa",
        "colab_type": "code",
        "colab": {
          "base_uri": "https://localhost:8080/",
          "height": 541
        },
        "outputId": "bc871199-2ef7-4d5b-f409-a267cbab7cb1"
      },
      "cell_type": "code",
      "source": [
        "#Q2. Which of the two input features seems more useful\n",
        "#    for predicting petal width?\n",
        "plt.figure(figsize=(4,4))\n",
        "plt.scatter(train[:, 0], train[:, 2], color = 'r', alpha = 0.5)\n",
        "plt.xlabel('sepal width in cm')\n",
        "plt.ylabel('petal width in cm')\n",
        "plt.show()\n",
        "plt.figure(figsize=(4,4))\n",
        "plt.scatter(train[:, 1], train[:, 2], color = 'b', alpha = 0.5)\n",
        "plt.xlabel('petal length in cm')\n",
        "plt.ylabel('petal width in cm')\n",
        "plt.show()"
      ],
      "execution_count": 12,
      "outputs": [
        {
          "output_type": "display_data",
          "data": {
            "image/png": "[encoded data removed]",
            "text/plain": [
              "<Figure size 288x288 with 1 Axes>"
            ]
          },
          "metadata": {
            "tags": []
          }
        },
        {
          "output_type": "display_data",
          "data": {
            "image/png": "[encoded data removed]",
            "text/plain": [
              "<Figure size 288x288 with 1 Axes>"
            ]
          },
          "metadata": {
            "tags": []
          }
        }
      ]
    },
    {
      "metadata": {
        "id": "4EicpcZlpB-r",
        "colab_type": "code",
        "colab": {
          "base_uri": "https://localhost:8080/",
          "height": 156
        },
        "outputId": "bab92d5c-71b0-4c06-a497-a0709f36f663"
      },
      "cell_type": "code",
      "source": [
        "train_input = train[:, 0:2] # col 2 & 3\n",
        "train_output = train[:, 2] # col 4\n",
        "valid_input = valid[:, 0:2]\n",
        "valid_output = valid[:, 2]\n",
        "\n",
        "print('')\n",
        "print(train_input[0:5])\n",
        "print('')\n",
        "print(train_output[0:5])"
      ],
      "execution_count": 4,
      "outputs": [
        {
          "output_type": "stream",
          "text": [
            "\n",
            "[[3.1 1.5]\n",
            " [3.  4.2]\n",
            " [3.  5.5]\n",
            " [2.8 5.6]\n",
            " [3.3 1.4]]\n",
            "\n",
            "[0.1 1.5 2.1 2.1 0.2]\n"
          ],
          "name": "stdout"
        }
      ]
    },
    {
      "metadata": {
        "id": "2c2W0zBBpCop",
        "colab_type": "code",
        "colab": {
          "base_uri": "https://localhost:8080/",
          "height": 191
        },
        "outputId": "9f5393ee-8dae-4c6d-e8bd-36aee625e54e"
      },
      "cell_type": "code",
      "source": [
        "#Q3. Why is the number of parameters = 3? \n",
        "model = Sequential()\n",
        "model.add(Dense(1, input_dim = len(train_input[0]), activation='linear'))\n",
        "print(model.summary())\n",
        "\n",
        "# Changing 'mae' to 'mse' should improve the smoothness of \n",
        "#  the learning curve and possibly the overall errors\n",
        "model.compile(loss='mae', optimizer='sgd', metrics=['mae'])\n",
        "\n",
        "# Verbose = 0 shows no updates, can be changed to 1 or 2\n",
        "history = model.fit(train_input, train_output, epochs=50, \n",
        "                    verbose = 0, batch_size=10, \n",
        "                    validation_data = (valid_input, valid_output))\n"
      ],
      "execution_count": 5,
      "outputs": [
        {
          "output_type": "stream",
          "text": [
            "_________________________________________________________________\n",
            "Layer (type)                 Output Shape              Param #   \n",
            "=================================================================\n",
            "dense_1 (Dense)              (None, 1)                 3         \n",
            "=================================================================\n",
            "Total params: 3\n",
            "Trainable params: 3\n",
            "Non-trainable params: 0\n",
            "_________________________________________________________________\n",
            "None\n"
          ],
          "name": "stdout"
        }
      ]
    },
    {
      "metadata": {
        "id": "M1omYwUAprR-",
        "colab_type": "code",
        "colab": {
          "base_uri": "https://localhost:8080/",
          "height": 279
        },
        "outputId": "ed466974-b167-4772-ec21-1b147b6847eb"
      },
      "cell_type": "code",
      "source": [
        "#Q4. Why eventually validation MAE is not \n",
        "#    always less than train MAE?\n",
        "plt.figure(figsize=(4,4))\n",
        "plt.plot(history.history['mean_absolute_error'])\n",
        "plt.plot(history.history['val_mean_absolute_error'])\n",
        "plt.ylabel('mean absolute error')\n",
        "plt.xlabel('epoch')\n",
        "plt.legend(['train', 'validation'], loc='upper right')\n",
        "plt.show()"
      ],
      "execution_count": 15,
      "outputs": [
        {
          "output_type": "display_data",
          "data": {
            "image/png": "[encoded data removed]",
            "text/plain": [
              "<Figure size 288x288 with 1 Axes>"
            ]
          },
          "metadata": {
            "tags": []
          }
        }
      ]
    },
    {
      "metadata": {
        "id": "9_BLJERYpDT7",
        "colab_type": "code",
        "colab": {
          "base_uri": "https://localhost:8080/",
          "height": 87
        },
        "outputId": "7c4e3118-cf21-49dc-ec1c-7f8b9b2f42b2"
      },
      "cell_type": "code",
      "source": [
        "#Q5. Are these predictions reasonable?\n",
        "np.set_printoptions(precision = 2)\n",
        "print ('True Validation Data:')\n",
        "print(valid_output[0:5])\n",
        "prediction = model.predict(valid_input)\n",
        "print ('Prediction:')\n",
        "print(prediction[0:5].T)"
      ],
      "execution_count": 7,
      "outputs": [
        {
          "output_type": "stream",
          "text": [
            "True Validation Data:\n",
            "[0.3 0.1 1.5 2.3 1.1]\n",
            "Prediction:\n",
            "[[0.33 0.22 1.65 2.03 1.  ]]\n"
          ],
          "name": "stdout"
        }
      ]
    },
    {
      "metadata": {
        "id": "JgIEocC2qAPg",
        "colab_type": "code",
        "colab": {
          "base_uri": "https://localhost:8080/",
          "height": 87
        },
        "outputId": "431b6de5-4edf-4aee-b306-9e9036b23218"
      },
      "cell_type": "code",
      "source": [
        "#Q6. What weight corresponds to which input feature?\n",
        "#    Which input feature is important? Why?     \n",
        "print('Model weights (w0, w1, and bias):')\n",
        "w0 = model.layers[0].get_weights()[0][0]\n",
        "w1 = model.layers[0].get_weights()[0][1]\n",
        "b0 = model.layers[0].get_weights()[1]\n",
        "print(w0)\n",
        "print(w1)\n",
        "print(b0)"
      ],
      "execution_count": 8,
      "outputs": [
        {
          "output_type": "stream",
          "text": [
            "Model weights (w0, w1, and bias):\n",
            "[-0.11]\n",
            "[0.41]\n",
            "[0.04]\n"
          ],
          "name": "stdout"
        }
      ]
    },
    {
      "metadata": {
        "id": "0unCxAtRqCFP",
        "colab_type": "code",
        "colab": {
          "base_uri": "https://localhost:8080/",
          "height": 156
        },
        "outputId": "16d1abbb-2df8-45f5-bf9a-a2fd7d41fb37"
      },
      "cell_type": "code",
      "source": [
        "#Q7. Why do we use model.predict(), if we can compute\n",
        "#    the predictions from weights that the model learns?\n",
        "print('Validation Data 0:')\n",
        "print(valid_input[0], valid_output[0])\n",
        "print('Prediction:')\n",
        "print(valid_input[0, 0] * (w0) + valid_input[0, 1] * (w1) + (b0))\n",
        "print('Validation Data 1:')\n",
        "print(valid_input[1], valid_output[1])\n",
        "print('Prediction:')\n",
        "print(valid_input[1, 0] * (w0) + valid_input[1, 1] * (w1) + (b0))"
      ],
      "execution_count": 9,
      "outputs": [
        {
          "output_type": "stream",
          "text": [
            "Validation Data 0:\n",
            "[3.8 1.7] 0.3\n",
            "Prediction:\n",
            "[0.33]\n",
            "Validation Data 1:\n",
            "[4.1 1.5] 0.1\n",
            "Prediction:\n",
            "[0.22]\n"
          ],
          "name": "stdout"
        }
      ]
    }
  ]
}