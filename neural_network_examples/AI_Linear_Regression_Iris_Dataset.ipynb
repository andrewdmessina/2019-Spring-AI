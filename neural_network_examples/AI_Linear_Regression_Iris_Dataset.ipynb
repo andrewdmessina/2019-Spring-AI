{
  "nbformat": 4,
  "nbformat_minor": 0,
  "metadata": {
    "colab": {
      "name": "AI_Linear_Regression_Iris_Dataset.ipynb",
      "version": "0.3.2",
      "provenance": [],
      "collapsed_sections": [],
      "include_colab_link": true
    },
    "kernelspec": {
      "display_name": "Python 3",
      "language": "python",
      "name": "python3"
    }
  },
  "cells": [
    {
      "cell_type": "markdown",
      "metadata": {
        "id": "view-in-github",
        "colab_type": "text"
      },
      "source": [
        "<a href=\"https://colab.research.google.com/github/badriadhikari/2019-Spring-AI/blob/master/neural_network_examples/AI_Linear_Regression_Iris_Dataset.ipynb\" target=\"_parent\"><img src=\"https://colab.research.google.com/assets/colab-badge.svg\" alt=\"Open In Colab\"/></a>"
      ]
    },
    {
      "metadata": {
        "id": "qNkOLgfjuiEa",
        "colab_type": "text"
      },
      "cell_type": "markdown",
      "source": [
        "####Example of Linear Regression with Two Input Variables using the Iris Flower Dataset  \n",
        "* We would like to predict \"petal width\" (column 4 in the original dataset) using sepal width (column 2) and petal length (column 3)  \n",
        "* Metadata: https://github.com/badriadhikari/2019-Spring-AI/blob/master/supplementary/iris.names  \n"
      ]
    },
    {
      "metadata": {
        "id": "X2Z70wjAxwTd",
        "colab_type": "code",
        "outputId": "22103488-f883-474b-e5b1-b5695a7ca4cb",
        "colab": {
          "base_uri": "https://localhost:8080/",
          "height": 173
        }
      },
      "cell_type": "code",
      "source": [
        "from keras.models import Sequential\n",
        "from keras.layers import Dense\n",
        "import numpy as np\n",
        "import matplotlib.pyplot as plt\n",
        "\n",
        "#  Column 2. sepal width in cm (load as col 0)\n",
        "#  Column 3. petal length in cm (load as col 1)\n",
        "#  Column 4. petal width in cm (load as col 2)\n",
        "datapath = \"https://raw.githubusercontent.com/badriadhikari/2019-Spring-AI/\"\n",
        "datapath = datapath + \"master/supplementary/iris.data\"\n",
        "dataset = np.genfromtxt(datapath, delimiter=\",\", usecols=(1, 2, 3))\n",
        "\n",
        "print('')\n",
        "print(dataset.shape)\n",
        "print('')\n",
        "print(dataset[0:5])"
      ],
      "execution_count": 1,
      "outputs": [
        {
          "output_type": "stream",
          "text": [
            "Using TensorFlow backend.\n"
          ],
          "name": "stderr"
        },
        {
          "output_type": "stream",
          "text": [
            "\n",
            "(150, 3)\n",
            "\n",
            "[[3.5 1.4 0.2]\n",
            " [3.  1.4 0.2]\n",
            " [3.2 1.3 0.2]\n",
            " [3.1 1.5 0.2]\n",
            " [3.6 1.4 0.2]]\n"
          ],
          "name": "stdout"
        }
      ]
    },
    {
      "metadata": {
        "id": "4nu2083-o43b",
        "colab_type": "code",
        "outputId": "a62c2973-fc1a-4534-f11c-7a2aada67a26",
        "colab": {
          "base_uri": "https://localhost:8080/",
          "height": 191
        }
      },
      "cell_type": "code",
      "source": [
        "# Q1. Why is shuffling important before splitting?\n",
        "np.random.shuffle(dataset)\n",
        "print('')\n",
        "print(dataset[0:5])\n",
        "train = dataset[:100]\n",
        "valid = dataset[100:]\n",
        "print('')\n",
        "print(train.shape)\n",
        "print('')\n",
        "print(valid.shape)"
      ],
      "execution_count": 2,
      "outputs": [
        {
          "output_type": "stream",
          "text": [
            "\n",
            "[[2.7 5.3 1.9]\n",
            " [3.2 6.  1.8]\n",
            " [3.  5.1 1.8]\n",
            " [2.4 3.8 1.1]\n",
            " [3.  4.5 1.5]]\n",
            "\n",
            "(100, 3)\n",
            "\n",
            "(50, 3)\n"
          ],
          "name": "stdout"
        }
      ]
    },
    {
      "metadata": {
        "id": "PcZZQLoTpBJa",
        "colab_type": "code",
        "outputId": "9f10a863-0755-4e7d-9a21-04132974a7f9",
        "colab": {
          "base_uri": "https://localhost:8080/",
          "height": 541
        }
      },
      "cell_type": "code",
      "source": [
        "#Q2. Which of the two input features seems more useful\n",
        "#    for predicting petal width?\n",
        "plt.figure(figsize=(4,4))\n",
        "plt.scatter(train[:, 0], train[:, 2], color = 'r', alpha = 0.5)\n",
        "plt.xlabel('sepal width in cm')\n",
        "plt.ylabel('petal width in cm')\n",
        "plt.show()\n",
        "plt.figure(figsize=(4,4))\n",
        "plt.scatter(train[:, 1], train[:, 2], color = 'b', alpha = 0.5)\n",
        "plt.xlabel('petal length in cm')\n",
        "plt.ylabel('petal width in cm')\n",
        "plt.show()"
      ],
      "execution_count": 3,
      "outputs": [
        {
          "output_type": "display_data",
          "data": {
            "image/png": "[encoded data removed]",
            "text/plain": [
              "<Figure size 288x288 with 1 Axes>"
            ]
          },
          "metadata": {
            "tags": []
          }
        },
        {
          "output_type": "display_data",
          "data": {
            "image/png": "[encoded data removed]",
            "text/plain": [
              "<Figure size 288x288 with 1 Axes>"
            ]
          },
          "metadata": {
            "tags": []
          }
        }
      ]
    },
    {
      "metadata": {
        "id": "4EicpcZlpB-r",
        "colab_type": "code",
        "outputId": "b3ad3c7a-e0fc-4261-d5ff-0806c8e247b1",
        "colab": {
          "base_uri": "https://localhost:8080/",
          "height": 156
        }
      },
      "cell_type": "code",
      "source": [
        "train_input = train[:, 0:2] # col 2 & 3\n",
        "train_output = train[:, 2] # col 4\n",
        "valid_input = valid[:, 0:2]\n",
        "valid_output = valid[:, 2]\n",
        "\n",
        "print('')\n",
        "print(train_input[0:5])\n",
        "print('')\n",
        "print(train_output[0:5])"
      ],
      "execution_count": 4,
      "outputs": [
        {
          "output_type": "stream",
          "text": [
            "\n",
            "[[2.7 5.3]\n",
            " [3.2 6. ]\n",
            " [3.  5.1]\n",
            " [2.4 3.8]\n",
            " [3.  4.5]]\n",
            "\n",
            "[1.9 1.8 1.8 1.1 1.5]\n"
          ],
          "name": "stdout"
        }
      ]
    },
    {
      "metadata": {
        "id": "2c2W0zBBpCop",
        "colab_type": "code",
        "outputId": "970c814b-725b-4f44-bd82-313d5080d5e1",
        "colab": {
          "base_uri": "https://localhost:8080/",
          "height": 191
        }
      },
      "cell_type": "code",
      "source": [
        "#Q3. Why is the number of parameters = 3? \n",
        "model = Sequential()\n",
        "model.add(Dense(1, input_dim = len(train_input[0]), activation='linear'))\n",
        "print(model.summary())\n",
        "\n",
        "# Changing 'mae' to 'mse' should improve the smoothness of \n",
        "#  the learning curve and possibly the overall errors\n",
        "model.compile(loss='mae', optimizer='sgd', metrics=['mae'])\n",
        "\n",
        "# Verbose = 0 shows no updates, can be changed to 1 or 2\n",
        "history = model.fit(train_input, train_output, epochs=50, \n",
        "                    verbose = 0, batch_size=10, \n",
        "                    validation_data = (valid_input, valid_output))\n"
      ],
      "execution_count": 5,
      "outputs": [
        {
          "output_type": "stream",
          "text": [
            "_________________________________________________________________\n",
            "Layer (type)                 Output Shape              Param #   \n",
            "=================================================================\n",
            "dense_1 (Dense)              (None, 1)                 3         \n",
            "=================================================================\n",
            "Total params: 3\n",
            "Trainable params: 3\n",
            "Non-trainable params: 0\n",
            "_________________________________________________________________\n",
            "None\n"
          ],
          "name": "stdout"
        }
      ]
    },
    {
      "metadata": {
        "id": "M1omYwUAprR-",
        "colab_type": "code",
        "outputId": "2ad7e42e-7534-4a5d-9e76-d22cea021b36",
        "colab": {
          "base_uri": "https://localhost:8080/",
          "height": 279
        }
      },
      "cell_type": "code",
      "source": [
        "#Q4. Why eventually validation MAE is not \n",
        "#    always less than train MAE?\n",
        "plt.figure(figsize=(4,4))\n",
        "plt.plot(history.history['mean_absolute_error'])\n",
        "plt.plot(history.history['val_mean_absolute_error'])\n",
        "plt.ylabel('mean absolute error')\n",
        "plt.xlabel('epoch')\n",
        "plt.legend(['train', 'validation'], loc='upper right')\n",
        "plt.show()"
      ],
      "execution_count": 6,
      "outputs": [
        {
          "output_type": "display_data",
          "data": {
            "image/png": "[encoded data removed]",
            "text/plain": [
              "<Figure size 288x288 with 1 Axes>"
            ]
          },
          "metadata": {
            "tags": []
          }
        }
      ]
    },
    {
      "metadata": {
        "id": "9_BLJERYpDT7",
        "colab_type": "code",
        "outputId": "498f0499-0e8e-4648-d297-6c41ee6cca41",
        "colab": {
          "base_uri": "https://localhost:8080/",
          "height": 87
        }
      },
      "cell_type": "code",
      "source": [
        "#Q5. Are these predictions reasonable?\n",
        "np.set_printoptions(precision = 2)\n",
        "print ('True Validation Data:')\n",
        "print(valid_output[0:5])\n",
        "prediction = model.predict(valid_input)\n",
        "print ('Prediction:')\n",
        "print(prediction[0:5].T)"
      ],
      "execution_count": 7,
      "outputs": [
        {
          "output_type": "stream",
          "text": [
            "True Validation Data:\n",
            "[0.3 0.3 2.  1.  1.3]\n",
            "Prediction:\n",
            "[[0.2  0.24 2.44 1.17 1.36]]\n"
          ],
          "name": "stdout"
        }
      ]
    },
    {
      "metadata": {
        "id": "JgIEocC2qAPg",
        "colab_type": "code",
        "outputId": "05f58354-cb79-4540-e4cd-868df535b6d4",
        "colab": {
          "base_uri": "https://localhost:8080/",
          "height": 87
        }
      },
      "cell_type": "code",
      "source": [
        "#Q6. What weight corresponds to which input feature?\n",
        "#    Which input feature is important? Why?     \n",
        "print('Model weights (w0, w1, and bias):')\n",
        "w0 = model.layers[0].get_weights()[0][0]\n",
        "w1 = model.layers[0].get_weights()[0][1]\n",
        "b0 = model.layers[0].get_weights()[1]\n",
        "print(w0)\n",
        "print(w1)\n",
        "print(b0)"
      ],
      "execution_count": 8,
      "outputs": [
        {
          "output_type": "stream",
          "text": [
            "Model weights (w0, w1, and bias):\n",
            "[-0.05]\n",
            "[0.41]\n",
            "[-0.16]\n"
          ],
          "name": "stdout"
        }
      ]
    },
    {
      "metadata": {
        "id": "0unCxAtRqCFP",
        "colab_type": "code",
        "outputId": "36b89ff8-f8b5-4611-f2d8-3d55e3b4d80b",
        "colab": {
          "base_uri": "https://localhost:8080/",
          "height": 156
        }
      },
      "cell_type": "code",
      "source": [
        "#Q7. Why do we use model.predict(), if we can compute\n",
        "#    the predictions from weights that the model learns?\n",
        "print('Validation Data 0:')\n",
        "print(valid_input[0], valid_output[0])\n",
        "print('Prediction:')\n",
        "print(valid_input[0, 0] * (w0) + valid_input[0, 1] * (w1) + (b0))\n",
        "print('Validation Data 1:')\n",
        "print(valid_input[1], valid_output[1])\n",
        "print('Prediction:')\n",
        "print(valid_input[1, 0] * (w0) + valid_input[1, 1] * (w1) + (b0))"
      ],
      "execution_count": 9,
      "outputs": [
        {
          "output_type": "stream",
          "text": [
            "Validation Data 0:\n",
            "[3.5 1.3] 0.3\n",
            "Prediction:\n",
            "[0.2]\n",
            "Validation Data 1:\n",
            "[3.5 1.4] 0.3\n",
            "Prediction:\n",
            "[0.24]\n"
          ],
          "name": "stdout"
        }
      ]
    }
  ]
}