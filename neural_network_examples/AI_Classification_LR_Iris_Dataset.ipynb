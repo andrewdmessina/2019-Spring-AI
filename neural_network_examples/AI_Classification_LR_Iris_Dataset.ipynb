{
  "nbformat": 4,
  "nbformat_minor": 0,
  "metadata": {
    "colab": {
      "name": "AI_Classification_LR_Iris_Dataset.ipynb",
      "version": "0.3.2",
      "provenance": [],
      "collapsed_sections": [],
      "include_colab_link": true
    },
    "kernelspec": {
      "display_name": "Python 3",
      "language": "python",
      "name": "python3"
    }
  },
  "cells": [
    {
      "cell_type": "markdown",
      "metadata": {
        "id": "view-in-github",
        "colab_type": "text"
      },
      "source": [
        "<a href=\"https://colab.research.google.com/github/badriadhikari/2019-Spring-AI/blob/master/neural_network_examples/AI_Classification_LR_Iris_Dataset.ipynb\" target=\"_parent\"><img src=\"https://colab.research.google.com/assets/colab-badge.svg\" alt=\"Open In Colab\"/></a>"
      ]
    },
    {
      "metadata": {
        "id": "qNkOLgfjuiEa",
        "colab_type": "text"
      },
      "cell_type": "markdown",
      "source": [
        "####Example of Linear Classification using Logistic Regression on the Iris Flower Dataset  \n",
        "* We would like to predict if a given data point (one row) belongs to the 'Iris-setosa' class\n",
        "* Metadata: https://github.com/badriadhikari/2019-Spring-AI/blob/master/supplementary/iris.names  \n",
        "* Dataset: https://github.com/badriadhikari/2019-Spring-AI/blob/master/supplementary/iris.data  \n"
      ]
    },
    {
      "metadata": {
        "id": "X2Z70wjAxwTd",
        "colab_type": "code",
        "outputId": "6948f33a-6886-459b-f402-e70baa6886f1",
        "colab": {
          "base_uri": "https://localhost:8080/",
          "height": 433
        }
      },
      "cell_type": "code",
      "source": [
        "from keras.models import Sequential\n",
        "from keras.layers import Dense\n",
        "import numpy as np\n",
        "import matplotlib.pyplot as plt\n",
        "\n",
        "datapath = \"https://raw.githubusercontent.com/badriadhikari/2019-Spring-AI/\"\n",
        "datapath = datapath + \"master/supplementary/iris.data\"\n",
        "dataset = np.genfromtxt(datapath, delimiter=\",\", dtype = str)\n",
        "\n",
        "print('')\n",
        "print(dataset.shape)\n",
        "print('')\n",
        "print(dataset[0:5])\n",
        "\n",
        "dataset[:, 4] = np.where(dataset[:, 4] == 'Iris-setosa', 1, 0)\n",
        "#dataset[:, 4] = np.where(dataset[:, 4] == 'Iris-versicolor', 1, 0)\n",
        "#dataset[:, 4] = np.where(dataset[:, 4] == 'Iris-virginica', 1, 0)\n",
        "\n",
        "dataset = dataset.astype(float)\n",
        "print(dataset[0:5])\n",
        "\n",
        "np.random.shuffle(dataset)\n",
        "print('')\n",
        "print(dataset[0:5])\n",
        "\n",
        "train = dataset[:100]\n",
        "valid = dataset[100:]\n",
        "print('')\n",
        "print(train.shape)\n",
        "print('')\n",
        "print(valid.shape)"
      ],
      "execution_count": 1,
      "outputs": [
        {
          "output_type": "stream",
          "text": [
            "Using TensorFlow backend.\n"
          ],
          "name": "stderr"
        },
        {
          "output_type": "stream",
          "text": [
            "\n",
            "(150, 5)\n",
            "\n",
            "[['5.1' '3.5' '1.4' '0.2' 'Iris-setosa']\n",
            " ['4.9' '3.0' '1.4' '0.2' 'Iris-setosa']\n",
            " ['4.7' '3.2' '1.3' '0.2' 'Iris-setosa']\n",
            " ['4.6' '3.1' '1.5' '0.2' 'Iris-setosa']\n",
            " ['5.0' '3.6' '1.4' '0.2' 'Iris-setosa']]\n",
            "[[5.1 3.5 1.4 0.2 1. ]\n",
            " [4.9 3.  1.4 0.2 1. ]\n",
            " [4.7 3.2 1.3 0.2 1. ]\n",
            " [4.6 3.1 1.5 0.2 1. ]\n",
            " [5.  3.6 1.4 0.2 1. ]]\n",
            "\n",
            "[[6.4 2.8 5.6 2.2 0. ]\n",
            " [5.4 3.4 1.7 0.2 1. ]\n",
            " [5.  3.4 1.5 0.2 1. ]\n",
            " [4.3 3.  1.1 0.1 1. ]\n",
            " [5.4 3.7 1.5 0.2 1. ]]\n",
            "\n",
            "(100, 5)\n",
            "\n",
            "(50, 5)\n"
          ],
          "name": "stdout"
        }
      ]
    },
    {
      "metadata": {
        "id": "F6-9Q8r54BIF",
        "colab_type": "code",
        "colab": {
          "base_uri": "https://localhost:8080/",
          "height": 156
        },
        "outputId": "77479ad3-238e-407a-8c0c-d7c5e459e769"
      },
      "cell_type": "code",
      "source": [
        "train_input = train[:, 0:4]\n",
        "train_output = train[:, 4]\n",
        "valid_input = valid[:, 0:4]\n",
        "valid_output = valid[:, 4]\n",
        "\n",
        "print('')\n",
        "print(train_input[0:5])\n",
        "print('')\n",
        "print(train_output[0:5])"
      ],
      "execution_count": 2,
      "outputs": [
        {
          "output_type": "stream",
          "text": [
            "\n",
            "[[6.4 2.8 5.6 2.2]\n",
            " [5.4 3.4 1.7 0.2]\n",
            " [5.  3.4 1.5 0.2]\n",
            " [4.3 3.  1.1 0.1]\n",
            " [5.4 3.7 1.5 0.2]]\n",
            "\n",
            "[0. 1. 1. 1. 1.]\n"
          ],
          "name": "stdout"
        }
      ]
    },
    {
      "metadata": {
        "id": "X919yuoQ2ZEr",
        "colab_type": "code",
        "colab": {
          "base_uri": "https://localhost:8080/",
          "height": 1941
        },
        "outputId": "44a05616-3640-4d08-87d3-b521336df1ba"
      },
      "cell_type": "code",
      "source": [
        "model = Sequential()\n",
        "model.add(Dense(1, input_dim = 4, activation='sigmoid'))\n",
        "print(model.summary())\n",
        "model.compile(loss='binary_crossentropy', optimizer='sgd', metrics=['accuracy'])\n",
        "history = model.fit(train_input, train_output, epochs=50 \n",
        "                    ,batch_size=10, verbose = 2\n",
        "                    ,validation_data = (valid_input, valid_output))"
      ],
      "execution_count": 3,
      "outputs": [
        {
          "output_type": "stream",
          "text": [
            "_________________________________________________________________\n",
            "Layer (type)                 Output Shape              Param #   \n",
            "=================================================================\n",
            "dense_1 (Dense)              (None, 1)                 5         \n",
            "=================================================================\n",
            "Total params: 5\n",
            "Trainable params: 5\n",
            "Non-trainable params: 0\n",
            "_________________________________________________________________\n",
            "None\n",
            "Train on 100 samples, validate on 50 samples\n",
            "Epoch 1/50\n",
            " - 0s - loss: 1.9466 - acc: 0.6500 - val_loss: 1.3655 - val_acc: 0.7000\n",
            "Epoch 2/50\n",
            " - 0s - loss: 1.4522 - acc: 0.6500 - val_loss: 0.9748 - val_acc: 0.7000\n",
            "Epoch 3/50\n",
            " - 0s - loss: 0.9998 - acc: 0.6500 - val_loss: 0.6386 - val_acc: 0.7000\n",
            "Epoch 4/50\n",
            " - 0s - loss: 0.6370 - acc: 0.6500 - val_loss: 0.4237 - val_acc: 0.7000\n",
            "Epoch 5/50\n",
            " - 0s - loss: 0.4436 - acc: 0.6500 - val_loss: 0.3395 - val_acc: 0.7200\n",
            "Epoch 6/50\n",
            " - 0s - loss: 0.3740 - acc: 0.7400 - val_loss: 0.3130 - val_acc: 0.8400\n",
            "Epoch 7/50\n",
            " - 0s - loss: 0.3455 - acc: 0.9200 - val_loss: 0.2977 - val_acc: 0.9800\n",
            "Epoch 8/50\n",
            " - 0s - loss: 0.3286 - acc: 0.9800 - val_loss: 0.2842 - val_acc: 1.0000\n",
            "Epoch 9/50\n",
            " - 0s - loss: 0.3132 - acc: 0.9700 - val_loss: 0.2722 - val_acc: 1.0000\n",
            "Epoch 10/50\n",
            " - 0s - loss: 0.2995 - acc: 0.9800 - val_loss: 0.2608 - val_acc: 1.0000\n",
            "Epoch 11/50\n",
            " - 0s - loss: 0.2874 - acc: 1.0000 - val_loss: 0.2497 - val_acc: 1.0000\n",
            "Epoch 12/50\n",
            " - 0s - loss: 0.2742 - acc: 1.0000 - val_loss: 0.2392 - val_acc: 1.0000\n",
            "Epoch 13/50\n",
            " - 0s - loss: 0.2640 - acc: 1.0000 - val_loss: 0.2300 - val_acc: 1.0000\n",
            "Epoch 14/50\n",
            " - 0s - loss: 0.2541 - acc: 1.0000 - val_loss: 0.2213 - val_acc: 1.0000\n",
            "Epoch 15/50\n",
            " - 0s - loss: 0.2453 - acc: 1.0000 - val_loss: 0.2132 - val_acc: 1.0000\n",
            "Epoch 16/50\n",
            " - 0s - loss: 0.2359 - acc: 1.0000 - val_loss: 0.2058 - val_acc: 1.0000\n",
            "Epoch 17/50\n",
            " - 0s - loss: 0.2274 - acc: 1.0000 - val_loss: 0.1988 - val_acc: 1.0000\n",
            "Epoch 18/50\n",
            " - 0s - loss: 0.2199 - acc: 1.0000 - val_loss: 0.1923 - val_acc: 1.0000\n",
            "Epoch 19/50\n",
            " - 0s - loss: 0.2138 - acc: 1.0000 - val_loss: 0.1861 - val_acc: 1.0000\n",
            "Epoch 20/50\n",
            " - 0s - loss: 0.2064 - acc: 1.0000 - val_loss: 0.1803 - val_acc: 1.0000\n",
            "Epoch 21/50\n",
            " - 0s - loss: 0.1995 - acc: 1.0000 - val_loss: 0.1748 - val_acc: 1.0000\n",
            "Epoch 22/50\n",
            " - 0s - loss: 0.1939 - acc: 1.0000 - val_loss: 0.1694 - val_acc: 1.0000\n",
            "Epoch 23/50\n",
            " - 0s - loss: 0.1889 - acc: 1.0000 - val_loss: 0.1645 - val_acc: 1.0000\n",
            "Epoch 24/50\n",
            " - 0s - loss: 0.1834 - acc: 1.0000 - val_loss: 0.1598 - val_acc: 1.0000\n",
            "Epoch 25/50\n",
            " - 0s - loss: 0.1775 - acc: 1.0000 - val_loss: 0.1554 - val_acc: 1.0000\n",
            "Epoch 26/50\n",
            " - 0s - loss: 0.1736 - acc: 1.0000 - val_loss: 0.1513 - val_acc: 1.0000\n",
            "Epoch 27/50\n",
            " - 0s - loss: 0.1686 - acc: 1.0000 - val_loss: 0.1473 - val_acc: 1.0000\n",
            "Epoch 28/50\n",
            " - 0s - loss: 0.1644 - acc: 1.0000 - val_loss: 0.1436 - val_acc: 1.0000\n",
            "Epoch 29/50\n",
            " - 0s - loss: 0.1603 - acc: 1.0000 - val_loss: 0.1400 - val_acc: 1.0000\n",
            "Epoch 30/50\n",
            " - 0s - loss: 0.1565 - acc: 1.0000 - val_loss: 0.1366 - val_acc: 1.0000\n",
            "Epoch 31/50\n",
            " - 0s - loss: 0.1527 - acc: 1.0000 - val_loss: 0.1334 - val_acc: 1.0000\n",
            "Epoch 32/50\n",
            " - 0s - loss: 0.1488 - acc: 1.0000 - val_loss: 0.1303 - val_acc: 1.0000\n",
            "Epoch 33/50\n",
            " - 0s - loss: 0.1455 - acc: 1.0000 - val_loss: 0.1274 - val_acc: 1.0000\n",
            "Epoch 34/50\n",
            " - 0s - loss: 0.1422 - acc: 1.0000 - val_loss: 0.1246 - val_acc: 1.0000\n",
            "Epoch 35/50\n",
            " - 0s - loss: 0.1393 - acc: 1.0000 - val_loss: 0.1219 - val_acc: 1.0000\n",
            "Epoch 36/50\n",
            " - 0s - loss: 0.1364 - acc: 1.0000 - val_loss: 0.1193 - val_acc: 1.0000\n",
            "Epoch 37/50\n",
            " - 0s - loss: 0.1335 - acc: 1.0000 - val_loss: 0.1168 - val_acc: 1.0000\n",
            "Epoch 38/50\n",
            " - 0s - loss: 0.1310 - acc: 1.0000 - val_loss: 0.1145 - val_acc: 1.0000\n",
            "Epoch 39/50\n",
            " - 0s - loss: 0.1286 - acc: 1.0000 - val_loss: 0.1122 - val_acc: 1.0000\n",
            "Epoch 40/50\n",
            " - 0s - loss: 0.1259 - acc: 1.0000 - val_loss: 0.1100 - val_acc: 1.0000\n",
            "Epoch 41/50\n",
            " - 0s - loss: 0.1235 - acc: 1.0000 - val_loss: 0.1079 - val_acc: 1.0000\n",
            "Epoch 42/50\n",
            " - 0s - loss: 0.1213 - acc: 1.0000 - val_loss: 0.1058 - val_acc: 1.0000\n",
            "Epoch 43/50\n",
            " - 0s - loss: 0.1194 - acc: 1.0000 - val_loss: 0.1039 - val_acc: 1.0000\n",
            "Epoch 44/50\n",
            " - 0s - loss: 0.1168 - acc: 1.0000 - val_loss: 0.1020 - val_acc: 1.0000\n",
            "Epoch 45/50\n",
            " - 0s - loss: 0.1145 - acc: 1.0000 - val_loss: 0.1002 - val_acc: 1.0000\n",
            "Epoch 46/50\n",
            " - 0s - loss: 0.1126 - acc: 1.0000 - val_loss: 0.0984 - val_acc: 1.0000\n",
            "Epoch 47/50\n",
            " - 0s - loss: 0.1108 - acc: 1.0000 - val_loss: 0.0968 - val_acc: 1.0000\n",
            "Epoch 48/50\n",
            " - 0s - loss: 0.1090 - acc: 1.0000 - val_loss: 0.0951 - val_acc: 1.0000\n",
            "Epoch 49/50\n",
            " - 0s - loss: 0.1072 - acc: 1.0000 - val_loss: 0.0935 - val_acc: 1.0000\n",
            "Epoch 50/50\n",
            " - 0s - loss: 0.1051 - acc: 1.0000 - val_loss: 0.0920 - val_acc: 1.0000\n"
          ],
          "name": "stdout"
        }
      ]
    },
    {
      "metadata": {
        "id": "yihfvcrl4G2k",
        "colab_type": "code",
        "colab": {
          "base_uri": "https://localhost:8080/",
          "height": 541
        },
        "outputId": "8570b915-14cd-401e-e19b-ec2502201c89"
      },
      "cell_type": "code",
      "source": [
        "plt.figure(figsize=(4,4))\n",
        "plt.plot(history.history['acc'])\n",
        "plt.plot(history.history['val_acc'])\n",
        "plt.ylabel('accuracy')\n",
        "plt.xlabel('epoch')\n",
        "plt.legend(['train', 'validation'], loc='upper right')\n",
        "plt.show()\n",
        "\n",
        "plt.figure(figsize=(4,4))\n",
        "plt.plot(history.history['loss'])\n",
        "plt.plot(history.history['val_loss'])\n",
        "plt.ylabel('loss')\n",
        "plt.xlabel('epoch')\n",
        "plt.legend(['train', 'validation'], loc='upper right')\n",
        "plt.show()"
      ],
      "execution_count": 4,
      "outputs": [
        {
          "output_type": "display_data",
          "data": {
            "image/png": "[encoded data removed]",
            "text/plain": [
              "<Figure size 288x288 with 1 Axes>"
            ]
          },
          "metadata": {
            "tags": []
          }
        },
        {
          "output_type": "display_data",
          "data": {
            "image/png": "[encoded data removed]",
            "text/plain": [
              "<Figure size 288x288 with 1 Axes>"
            ]
          },
          "metadata": {
            "tags": []
          }
        }
      ]
    },
    {
      "metadata": {
        "id": "bduK9qqQ4Ibl",
        "colab_type": "code",
        "colab": {
          "base_uri": "https://localhost:8080/",
          "height": 87
        },
        "outputId": "1d03e536-44c0-4be7-8416-e95541cb4d9f"
      },
      "cell_type": "code",
      "source": [
        "np.set_printoptions(precision = 2)\n",
        "print ('True Validation Data:')\n",
        "print(valid_output[0:5])\n",
        "prediction = model.predict(valid_input)\n",
        "print ('Prediction:')\n",
        "print(prediction[0:5].T)"
      ],
      "execution_count": 5,
      "outputs": [
        {
          "output_type": "stream",
          "text": [
            "True Validation Data:\n",
            "[0. 0. 0. 1. 0.]\n",
            "Prediction:\n",
            "[[0.02 0.02 0.01 0.82 0.04]]\n"
          ],
          "name": "stdout"
        }
      ]
    }
  ]
}